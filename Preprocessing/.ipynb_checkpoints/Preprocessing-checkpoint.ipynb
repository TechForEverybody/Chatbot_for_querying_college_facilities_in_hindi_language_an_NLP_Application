{
 "cells": [
  {
   "cell_type": "markdown",
   "id": "married-potato",
   "metadata": {},
   "source": [
    "# imports"
   ]
  },
  {
   "cell_type": "code",
   "execution_count": 2,
   "id": "static-shareware",
   "metadata": {},
   "outputs": [],
   "source": [
    "import numpy\n",
    "import pandas\n",
    "import matplotlib.pyplot as pyplot\n",
    "from matplotlib.font_manager import FontProperties\n",
    "import seaborn\n",
    "\n",
    "import nltk\n",
    "from nltk.corpus import stopwords,wordnet\n",
    "from nltk.probability import FreqDist\n",
    "\n",
    "from wordcloud import WordCloud\n",
    "\n",
    "import re\n",
    "\n",
    "from spacy.lang.hi import STOP_WORDS as STOP_WORDS_HI"
   ]
  },
  {
   "cell_type": "code",
   "execution_count": 32,
   "id": "latest-particular",
   "metadata": {},
   "outputs": [],
   "source": [
    "import warnings\n",
    "warnings.filterwarnings('ignore')"
   ]
  },
  {
   "cell_type": "code",
   "execution_count": 11,
   "id": "plain-universal",
   "metadata": {},
   "outputs": [],
   "source": [
    "# %matplotlib qt\n",
    "%matplotlib inline\n",
    "pyplot.rcParams[\"figure.figsize\"] = (15, 12)\n",
    "font_parameter = FontProperties(fname='gargi.ttf', size=18)\n",
    "font=\"gargi.ttf\""
   ]
  },
  {
   "cell_type": "code",
   "execution_count": 12,
   "id": "suspended-greensboro",
   "metadata": {},
   "outputs": [],
   "source": [
    "filename=\"Data.csv\""
   ]
  },
  {
   "cell_type": "code",
   "execution_count": 73,
   "id": "western-stick",
   "metadata": {},
   "outputs": [],
   "source": [
    "data=pandas.read_csv('../Data/Main_Data/'+filename)"
   ]
  },
  {
   "cell_type": "code",
   "execution_count": 74,
   "id": "respected-regular",
   "metadata": {},
   "outputs": [
    {
     "data": {
      "text/html": [
       "<div>\n",
       "<style scoped>\n",
       "    .dataframe tbody tr th:only-of-type {\n",
       "        vertical-align: middle;\n",
       "    }\n",
       "\n",
       "    .dataframe tbody tr th {\n",
       "        vertical-align: top;\n",
       "    }\n",
       "\n",
       "    .dataframe thead th {\n",
       "        text-align: right;\n",
       "    }\n",
       "</style>\n",
       "<table border=\"1\" class=\"dataframe\">\n",
       "  <thead>\n",
       "    <tr style=\"text-align: right;\">\n",
       "      <th></th>\n",
       "      <th>Questions</th>\n",
       "      <th>Answers</th>\n",
       "      <th>keywards</th>\n",
       "    </tr>\n",
       "  </thead>\n",
       "  <tbody>\n",
       "    <tr>\n",
       "      <th>0</th>\n",
       "      <td>महाविद्यालय का पता क्या हैं</td>\n",
       "      <td>डॉ. के.एम. वासुदेवन पिल्लै परिसर प्लॉट नंबर 10...</td>\n",
       "      <td>अड्रेस ऑफिस</td>\n",
       "    </tr>\n",
       "    <tr>\n",
       "      <th>1</th>\n",
       "      <td>महाविद्यालय का फोन नंबर क्या हैं</td>\n",
       "      <td>02227456030</td>\n",
       "      <td>दूरभाष दूरध्वनी</td>\n",
       "    </tr>\n",
       "    <tr>\n",
       "      <th>2</th>\n",
       "      <td>महाविद्यालय कब स्थापित हुआ था</td>\n",
       "      <td>१९९९</td>\n",
       "      <td>स्थापना</td>\n",
       "    </tr>\n",
       "  </tbody>\n",
       "</table>\n",
       "</div>"
      ],
      "text/plain": [
       "                          Questions  \\\n",
       "0       महाविद्यालय का पता क्या हैं   \n",
       "1  महाविद्यालय का फोन नंबर क्या हैं   \n",
       "2     महाविद्यालय कब स्थापित हुआ था   \n",
       "\n",
       "                                             Answers         keywards  \n",
       "0  डॉ. के.एम. वासुदेवन पिल्लै परिसर प्लॉट नंबर 10...      अड्रेस ऑफिस  \n",
       "1                                        02227456030  दूरभाष दूरध्वनी  \n",
       "2                                               १९९९          स्थापना  "
      ]
     },
     "execution_count": 74,
     "metadata": {},
     "output_type": "execute_result"
    }
   ],
   "source": [
    "data"
   ]
  },
  {
   "cell_type": "code",
   "execution_count": 15,
   "id": "different-leisure",
   "metadata": {},
   "outputs": [
    {
     "data": {
      "text/html": [
       "<div>\n",
       "<style scoped>\n",
       "    .dataframe tbody tr th:only-of-type {\n",
       "        vertical-align: middle;\n",
       "    }\n",
       "\n",
       "    .dataframe tbody tr th {\n",
       "        vertical-align: top;\n",
       "    }\n",
       "\n",
       "    .dataframe thead th {\n",
       "        text-align: right;\n",
       "    }\n",
       "</style>\n",
       "<table border=\"1\" class=\"dataframe\">\n",
       "  <thead>\n",
       "    <tr style=\"text-align: right;\">\n",
       "      <th></th>\n",
       "      <th>Questions</th>\n",
       "      <th>Answers</th>\n",
       "      <th>keywards</th>\n",
       "    </tr>\n",
       "  </thead>\n",
       "  <tbody>\n",
       "    <tr>\n",
       "      <th>count</th>\n",
       "      <td>3</td>\n",
       "      <td>3</td>\n",
       "      <td>3</td>\n",
       "    </tr>\n",
       "    <tr>\n",
       "      <th>unique</th>\n",
       "      <td>3</td>\n",
       "      <td>3</td>\n",
       "      <td>3</td>\n",
       "    </tr>\n",
       "    <tr>\n",
       "      <th>top</th>\n",
       "      <td>महाविद्यालय का पता क्या हैं</td>\n",
       "      <td>डॉ. के.एम. वासुदेवन पिल्लै परिसर प्लॉट नंबर 10...</td>\n",
       "      <td>अड्रेस ऑफिस</td>\n",
       "    </tr>\n",
       "    <tr>\n",
       "      <th>freq</th>\n",
       "      <td>1</td>\n",
       "      <td>1</td>\n",
       "      <td>1</td>\n",
       "    </tr>\n",
       "  </tbody>\n",
       "</table>\n",
       "</div>"
      ],
      "text/plain": [
       "                          Questions  \\\n",
       "count                             3   \n",
       "unique                            3   \n",
       "top     महाविद्यालय का पता क्या हैं   \n",
       "freq                              1   \n",
       "\n",
       "                                                  Answers     keywards  \n",
       "count                                                   3            3  \n",
       "unique                                                  3            3  \n",
       "top     डॉ. के.एम. वासुदेवन पिल्लै परिसर प्लॉट नंबर 10...  अड्रेस ऑफिस  \n",
       "freq                                                    1            1  "
      ]
     },
     "execution_count": 15,
     "metadata": {},
     "output_type": "execute_result"
    }
   ],
   "source": [
    "data.describe()"
   ]
  },
  {
   "cell_type": "code",
   "execution_count": 16,
   "id": "valuable-translation",
   "metadata": {},
   "outputs": [
    {
     "name": "stdout",
     "output_type": "stream",
     "text": [
      "<class 'pandas.core.frame.DataFrame'>\n",
      "RangeIndex: 3 entries, 0 to 2\n",
      "Data columns (total 3 columns):\n",
      " #   Column     Non-Null Count  Dtype \n",
      "---  ------     --------------  ----- \n",
      " 0   Questions  3 non-null      object\n",
      " 1   Answers    3 non-null      object\n",
      " 2   keywards   3 non-null      object\n",
      "dtypes: object(3)\n",
      "memory usage: 200.0+ bytes\n"
     ]
    }
   ],
   "source": [
    "data.info()"
   ]
  },
  {
   "cell_type": "code",
   "execution_count": 17,
   "id": "labeled-tennis",
   "metadata": {},
   "outputs": [
    {
     "data": {
      "text/plain": [
       "[5, 6, 5]"
      ]
     },
     "execution_count": 17,
     "metadata": {},
     "output_type": "execute_result"
    }
   ],
   "source": [
    "[len(text.split()) for text in data['Questions']]"
   ]
  },
  {
   "cell_type": "code",
   "execution_count": 18,
   "id": "talented-ozone",
   "metadata": {},
   "outputs": [
    {
     "data": {
      "text/plain": [
       "<matplotlib.collections.PathCollection at 0x1e58431cdc0>"
      ]
     },
     "execution_count": 18,
     "metadata": {},
     "output_type": "execute_result"
    },
    {
     "data": {
      "image/png": "[encoded data removed]",
      "text/plain": [
       "<Figure size 1080x864 with 1 Axes>"
      ]
     },
     "metadata": {
      "needs_background": "light"
     },
     "output_type": "display_data"
    }
   ],
   "source": [
    "pyplot.scatter([i for i in range(1,len(data)+1)],[len(text.split()) for text in data['Questions']])"
   ]
  },
  {
   "cell_type": "code",
   "execution_count": 19,
   "id": "sound-grill",
   "metadata": {},
   "outputs": [],
   "source": [
    "Whole_Words_list=[text for text in data['Questions']]\n",
    "Whole_Words_list=\" \".join(Whole_Words_list)\n",
    "Whole_Words_list=Whole_Words_list.split()"
   ]
  },
  {
   "cell_type": "code",
   "execution_count": 20,
   "id": "employed-functionality",
   "metadata": {},
   "outputs": [
    {
     "data": {
      "text/plain": [
       "['महाविद्यालय',\n",
       " 'का',\n",
       " 'पता',\n",
       " 'क्या',\n",
       " 'हैं',\n",
       " 'महाविद्यालय',\n",
       " 'का',\n",
       " 'फोन',\n",
       " 'नंबर',\n",
       " 'क्या',\n",
       " 'हैं',\n",
       " 'महाविद्यालय',\n",
       " 'कब',\n",
       " 'स्थापित',\n",
       " 'हुआ',\n",
       " 'था']"
      ]
     },
     "execution_count": 20,
     "metadata": {},
     "output_type": "execute_result"
    }
   ],
   "source": [
    "Whole_Words_list"
   ]
  },
  {
   "cell_type": "code",
   "execution_count": 21,
   "id": "suspended-dynamics",
   "metadata": {},
   "outputs": [
    {
     "data": {
      "text/plain": [
       "16"
      ]
     },
     "execution_count": 21,
     "metadata": {},
     "output_type": "execute_result"
    }
   ],
   "source": [
    "len(Whole_Words_list)"
   ]
  },
  {
   "cell_type": "code",
   "execution_count": null,
   "id": "fundamental-bracelet",
   "metadata": {},
   "outputs": [],
   "source": []
  },
  {
   "cell_type": "code",
   "execution_count": 22,
   "id": "progressive-canadian",
   "metadata": {},
   "outputs": [],
   "source": [
    "Word_cloud=WordCloud(width = 1200, height = 800,background_color ='white',font_path=font)"
   ]
  },
  {
   "cell_type": "code",
   "execution_count": 23,
   "id": "happy-utilization",
   "metadata": {},
   "outputs": [],
   "source": [
    "dictionary_of_frequency_of_word=FreqDist(Whole_Words_list)"
   ]
  },
  {
   "cell_type": "code",
   "execution_count": 24,
   "id": "endless-target",
   "metadata": {},
   "outputs": [
    {
     "data": {
      "text/plain": [
       "FreqDist({'महाविद्यालय': 3, 'का': 2, 'क्या': 2, 'हैं': 2, 'पता': 1, 'फोन': 1, 'नंबर': 1, 'कब': 1, 'स्थापित': 1, 'हुआ': 1, ...})"
      ]
     },
     "execution_count": 24,
     "metadata": {},
     "output_type": "execute_result"
    }
   ],
   "source": [
    "dictionary_of_frequency_of_word"
   ]
  },
  {
   "cell_type": "code",
   "execution_count": 25,
   "id": "unknown-jerusalem",
   "metadata": {},
   "outputs": [
    {
     "data": {
      "text/plain": [
       "<wordcloud.wordcloud.WordCloud at 0x1e584297820>"
      ]
     },
     "execution_count": 25,
     "metadata": {},
     "output_type": "execute_result"
    }
   ],
   "source": [
    "Word_cloud.generate_from_frequencies(frequencies=dictionary_of_frequency_of_word)"
   ]
  },
  {
   "cell_type": "code",
   "execution_count": 26,
   "id": "sustained-avatar",
   "metadata": {},
   "outputs": [
    {
     "data": {
      "text/plain": [
       "<matplotlib.image.AxesImage at 0x1e5843eb820>"
      ]
     },
     "execution_count": 26,
     "metadata": {},
     "output_type": "execute_result"
    },
    {
     "data": {
      "image/png": "[encoded data removed]",
      "text/plain": [
       "<Figure size 1080x864 with 1 Axes>"
      ]
     },
     "metadata": {
      "needs_background": "light"
     },
     "output_type": "display_data"
    }
   ],
   "source": [
    "pyplot.imshow(Word_cloud,interpolation=\"bilinear\")"
   ]
  },
  {
   "cell_type": "code",
   "execution_count": 33,
   "id": "romantic-family",
   "metadata": {
    "scrolled": false
   },
   "outputs": [
    {
     "data": {
      "image/png": "[encoded data removed]",
      "text/plain": [
       "<Figure size 1080x864 with 1 Axes>"
      ]
     },
     "metadata": {
      "needs_background": "light"
     },
     "output_type": "display_data"
    },
    {
     "data": {
      "text/plain": [
       "<AxesSubplot:xlabel='Samples', ylabel='Counts'>"
      ]
     },
     "execution_count": 33,
     "metadata": {},
     "output_type": "execute_result"
    }
   ],
   "source": [
    "dictionary_of_frequency_of_word.plot(10)"
   ]
  },
  {
   "cell_type": "code",
   "execution_count": 34,
   "id": "animated-casino",
   "metadata": {
    "scrolled": false
   },
   "outputs": [
    {
     "data": {
      "text/plain": [
       "dict_values([3, 2, 1, 2, 2, 1, 1, 1, 1, 1, 1])"
      ]
     },
     "execution_count": 34,
     "metadata": {},
     "output_type": "execute_result"
    }
   ],
   "source": [
    "dictionary_of_frequency_of_word.values()"
   ]
  },
  {
   "cell_type": "code",
   "execution_count": 36,
   "id": "requested-draft",
   "metadata": {
    "scrolled": false
   },
   "outputs": [
    {
     "data": {
      "text/plain": [
       "<BarContainer object of 11 artists>"
      ]
     },
     "execution_count": 36,
     "metadata": {},
     "output_type": "execute_result"
    },
    {
     "data": {
      "image/png": "[encoded data removed]",
      "text/plain": [
       "<Figure size 1080x864 with 1 Axes>"
      ]
     },
     "metadata": {
      "needs_background": "light"
     },
     "output_type": "display_data"
    }
   ],
   "source": [
    "pyplot.bar([i for i in range(1,len(dictionary_of_frequency_of_word.values())+1)],dictionary_of_frequency_of_word.values(),)"
   ]
  },
  {
   "cell_type": "markdown",
   "id": "reserved-candle",
   "metadata": {},
   "source": [
    "# Morphological Preprocessing"
   ]
  },
  {
   "cell_type": "code",
   "execution_count": 83,
   "id": "imposed-resort",
   "metadata": {},
   "outputs": [],
   "source": [
    "Regular_expression_definition_for_digits=re.compile('\\d+\\s|\\s\\d+|\\s\\d+\\s')"
   ]
  },
  {
   "cell_type": "code",
   "execution_count": 84,
   "id": "nonprofit-marks",
   "metadata": {},
   "outputs": [],
   "source": [
    "Defined_Stopwords=[\"मैं\",\"मुझको\",\"मेरा\",\"अपने आप को\",\"हमने\",\"हमारा\",\"अपना\",\"हम\",\"आप\",\"आपका\",\"तुम्हारा\",\"अपने आप\",\"स्वयं\",\"वह\",\"इसे\",\"उसके\",\"खुद को\",\"कि वह\",\"उसकी\",\"उसका\",\"खुद ही\",\"यह\",\"इसके\",\"उन्होने\",\"अपने\",\"क्या\",\"जो\",\"किसे\",\"किसको\",\"कि\",\"ये\",\"हूँ\",\"होता है\",\"रहे\",\"थी\",\"थे\",\"होना\",\"गया\",\"किया जा रहा है\",\"किया है\",\"है\",\"पडा\",\"होने\",\"करना\",\"करता है\",\"किया\",\"रही\",\"एक\",\"लेकिन\",\"अगर\",\"या\",\"क्यूंकि\",\"जैसा\",\"जब तक\",\"जबकि\",\"की\",\"पर\",\"द्वारा\",\"के लिए\",\"साथ\",\"के बारे में\",\"खिलाफ\",\"बीच\",\"में\",\"के माध्यम से\",\"दौरान\",\"से पहले\",\"के बाद\",\"ऊपर\",\"नीचे\",\"को\",\"से\",\"तक\",\"से नीचे\",\"करने में\",\"निकल\",\"बंद\",\"से अधिक\",\"तहत\",\"दुबारा\",\"आगे\",\"फिर\",\"एक बार\",\"यहाँ\",\"वहाँ\",\"कब\",\"कहाँ\",\"क्यों\",\"कैसे\",\"सारे\",\"किसी\",\"दोनो\",\"प्रत्येक\",\"ज्यादा\",\"अधिकांश\",\"अन्य\",\"में कुछ\",\"ऐसा\",\"में कोई\",\"मात्र\",\"खुद\",\"समान\",\"इसलिए\",\"बहुत\",\"सकता\",\"जायेंगे\",\"जरा\",\"चाहिए\",\"अभी\",\"और\",\"कर दिया\",\"रखें\",\"का\",\"हैं\",\"इस\",\"होता\",\"करने\",\"ने\",\"बनी\",\"तो\",\"ही\",\"हो\",\"इसका\",\"था\",\"हुआ\",\"वाले\",\"बाद\",\"लिए\",\"सकते\",\"इसमें\",\"दो\",\"वे\",\"करते\",\"कहा\",\"वर्ग\",\"कई\",\"करें\",\"होती\",\"अपनी\",\"उनके\",\"यदि\",\"हुई\",\"जा\",\"कहते\",\"जब\",\"होते\",\"कोई\",\"हुए\",\"व\",\"जैसे\",\"सभी\",\"करता\",\"उनकी\",\"तरह\",\"उस\",\"आदि\",\"इसकी\",\"उनका\",\"इसी\",\"पे\",\"तथा\",\"भी\",\"परंतु\",\"इन\",\"कम\",\"दूर\",\"पूरे\",\"गये\",\"तुम\",\"मै\",\"यहां\",\"हुये\",\"कभी\",\"अथवा\",\"गयी\",\"प्रति\",\"जाता\",\"इन्हें\",\"गई\",\"अब\",\"जिसमें\",\"लिया\",\"बड़ा\",\"जाती\",\"तब\",\"उसे\",\"जाते\",\"लेकर\",\"बड़े\",\"दूसरे\",\"जाने\",\"बाहर\",\"स्थान\",\"उन्हें \",\"गए\",\"ऐसे\",\"जिससे\",\"समय\",\"दोनों\",\"किए\",\"रहती\",\"इनके\",\"इनका\",\"इनकी\",\"सकती\",\"आज\",\"कल\",\"जिन्हें\",\"जिन्हों\",\"तिन्हें\",\"तिन्हों\",\"किन्हों\",\"किन्हें\",\"इत्यादि\",\"इन्हों\",\"उन्हों\",\"बिलकुल\",\"निहायत\",\"इन्हीं\",\"उन्हीं\",\"जितना\",\"दूसरा\",\"कितना\",\"साबुत\",\"वग़ैरह\",\"कौनसा\",\"लिये\",\"दिया\",\"जिसे\",\"तिसे\",\"काफ़ी\",\"पहले\",\"बाला\",\"मानो\",\"अंदर\",\"भीतर\",\"पूरा\",\"सारा\",\"उनको\",\"वहीं\",\"जहाँ\",\"जीधर\",\"के\",\"एवं\",\"कुछ\",\"कुल\",\"रहा\",\"जिस\",\"जिन\",\"तिस\",\"तिन\",\"कौन\",\"किस\",\"संग\",\"यही\",\"बही\",\"उसी\",\"मगर\",\"कर\",\"मे\",\"एस\",\"उन\",\"सो\",\"अत\"]"
   ]
  },
  {
   "cell_type": "code",
   "execution_count": 85,
   "id": "stupid-digit",
   "metadata": {},
   "outputs": [],
   "source": [
    "Hindi_Stop_Words=tuple(set(STOP_WORDS_HI).union(set(Defined_Stopwords)))"
   ]
  },
  {
   "cell_type": "code",
   "execution_count": 86,
   "id": "fitted-network",
   "metadata": {
    "scrolled": true
   },
   "outputs": [
    {
     "data": {
      "text/plain": [
       "('तहत',\n",
       " 'दूर',\n",
       " 'मै',\n",
       " 'जाती',\n",
       " 'अथवा',\n",
       " 'भी',\n",
       " 'जिन',\n",
       " 'लेकिन',\n",
       " 'सभी',\n",
       " 'जितना',\n",
       " 'कर दिया',\n",
       " 'ना',\n",
       " 'इंहों',\n",
       " 'साथ',\n",
       " 'कर',\n",
       " 'अत',\n",
       " 'किया जा रहा है',\n",
       " 'साबुत',\n",
       " 'जायेंगे',\n",
       " 'कब',\n",
       " 'हमने',\n",
       " 'कोई',\n",
       " 'अभी',\n",
       " 'का',\n",
       " 'जब',\n",
       " 'इनका',\n",
       " 'अधिकांश',\n",
       " 'रहे',\n",
       " 'हुये',\n",
       " 'तुम',\n",
       " 'उनकि',\n",
       " 'ये',\n",
       " 'सकते',\n",
       " 'इन्हीं',\n",
       " 'समय',\n",
       " 'घर',\n",
       " 'कितना',\n",
       " 'वर्ग',\n",
       " 'उनके',\n",
       " 'ऊपर',\n",
       " 'दोनो',\n",
       " 'यही',\n",
       " 'बंद',\n",
       " 'इसका',\n",
       " 'जिन्हें',\n",
       " 'नहीं',\n",
       " 'या',\n",
       " 'सारे',\n",
       " 'साभ',\n",
       " 'जाता',\n",
       " 'के बारे में',\n",
       " 'रखें',\n",
       " 'इस',\n",
       " 'प्रति',\n",
       " 'जहां',\n",
       " 'वहीं',\n",
       " 'इसकी',\n",
       " 'प्रत्येक',\n",
       " 'जिंहों',\n",
       " 'को',\n",
       " 'करता',\n",
       " 'होता',\n",
       " 'द्वारा',\n",
       " 'अपने आप',\n",
       " 'जैसे',\n",
       " 'हुआ',\n",
       " 'इत्यादि',\n",
       " 'उनकी',\n",
       " 'के बाद',\n",
       " 'कौन',\n",
       " 'किसे',\n",
       " 'सबसे',\n",
       " 'गये',\n",
       " 'इसकि',\n",
       " 'कुछ',\n",
       " 'इसमें',\n",
       " 'तिन',\n",
       " 'मात्र',\n",
       " 'तिस',\n",
       " 'पुरा',\n",
       " 'जीधर',\n",
       " 'उन्हीं',\n",
       " 'लिए',\n",
       " 'एसे',\n",
       " 'करता है',\n",
       " 'लिया',\n",
       " 'इनकी',\n",
       " 'जिस',\n",
       " 'निहायत',\n",
       " 'हैं',\n",
       " 'एक बार',\n",
       " 'जिसमें',\n",
       " 'दो',\n",
       " 'जिन्हों',\n",
       " 'भीतर',\n",
       " 'जब तक',\n",
       " 'सभि',\n",
       " 'यहि',\n",
       " 'समान',\n",
       " 'हि',\n",
       " 'गई',\n",
       " 'आज',\n",
       " 'किया',\n",
       " 'बड़े',\n",
       " 'थी',\n",
       " 'यिह',\n",
       " 'गया',\n",
       " 'कहा',\n",
       " 'जहाँ',\n",
       " 'थे',\n",
       " 'किन्हें',\n",
       " 'वहाँ',\n",
       " 'कैसे',\n",
       " 'किसको',\n",
       " 'एक',\n",
       " 'तुम्हारा',\n",
       " 'जेसे',\n",
       " 'कभी',\n",
       " 'अपने',\n",
       " 'दिया',\n",
       " 'अगर',\n",
       " 'के माध्यम से',\n",
       " 'अप',\n",
       " 'जिससे',\n",
       " 'में कुछ',\n",
       " 'बनी',\n",
       " 'किया है',\n",
       " 'जो',\n",
       " 'इतयादि',\n",
       " 'नीचे',\n",
       " 'वग़ैरह',\n",
       " 'कहाँ',\n",
       " 'रहती',\n",
       " 'निकल',\n",
       " 'गयी',\n",
       " 'पे',\n",
       " 'तिन्हें',\n",
       " 'उंहिं',\n",
       " 'तरह',\n",
       " 'हुअ',\n",
       " 'यह',\n",
       " 'भितर',\n",
       " 'जरा',\n",
       " 'जाने',\n",
       " 'दुबारा',\n",
       " 'इन',\n",
       " 'लिये',\n",
       " 'मगर',\n",
       " 'के',\n",
       " 'करना',\n",
       " 'ऱ्वासा',\n",
       " 'उंहें',\n",
       " 'मुझको',\n",
       " 'होति',\n",
       " 'है',\n",
       " 'सकती',\n",
       " 'वाले',\n",
       " 'जिंहें',\n",
       " 'से',\n",
       " 'बाला',\n",
       " 'और',\n",
       " 'इसलिए',\n",
       " 'सारा',\n",
       " 'होती',\n",
       " 'बाहर',\n",
       " 'उनको',\n",
       " 'पडा',\n",
       " 'कोनसा',\n",
       " 'हूँ',\n",
       " 'खुद',\n",
       " 'पूरा',\n",
       " 'वह',\n",
       " 'इंहिं',\n",
       " 'उनका',\n",
       " 'हुए',\n",
       " 'के लिए',\n",
       " 'तब',\n",
       " 'होने',\n",
       " 'उन्हों',\n",
       " 'कम',\n",
       " 'अपनि',\n",
       " 'सो',\n",
       " 'दूसरा',\n",
       " 'संग',\n",
       " 'पहले',\n",
       " 'से पहले',\n",
       " 'अंदर',\n",
       " 'जिसे',\n",
       " 'ने',\n",
       " 'वहां',\n",
       " 'किस',\n",
       " 'जा',\n",
       " 'भि',\n",
       " 'किंहें',\n",
       " 'होते',\n",
       " 'मे',\n",
       " 'यदि',\n",
       " 'थि',\n",
       " 'परंतु',\n",
       " 'ओर',\n",
       " 'दवारा',\n",
       " 'करें',\n",
       " 'अन्य',\n",
       " 'बीच',\n",
       " 'ऐसा',\n",
       " 'कुल',\n",
       " 'ज्यादा',\n",
       " 'हो',\n",
       " 'जबकि',\n",
       " 'बही',\n",
       " 'उन्हें',\n",
       " 'वे',\n",
       " 'से अधिक',\n",
       " 'किए',\n",
       " 'किर',\n",
       " 'इन्हों',\n",
       " 'इसे',\n",
       " 'आगे',\n",
       " 'कहते',\n",
       " 'हे',\n",
       " 'इसि',\n",
       " 'अब',\n",
       " 'हें',\n",
       " 'लेकर',\n",
       " 'वुह',\n",
       " 'आपका',\n",
       " 'खुद ही',\n",
       " 'क्यूंकि',\n",
       " 'फिर',\n",
       " 'पूरे',\n",
       " 'से नीचे',\n",
       " 'जिधर',\n",
       " 'बनि',\n",
       " 'गए',\n",
       " 'होना',\n",
       " 'उसी',\n",
       " 'क्या',\n",
       " 'अदि',\n",
       " 'अभि',\n",
       " 'हुई',\n",
       " 'एस',\n",
       " 'मेरा',\n",
       " 'बहुत',\n",
       " 'ही',\n",
       " 'तिन्हों',\n",
       " 'उन्हें ',\n",
       " 'उसि',\n",
       " 'उसे',\n",
       " 'कइ',\n",
       " 'वहिं',\n",
       " 'उन्होने',\n",
       " 'इनके',\n",
       " 'हम',\n",
       " 'किसी',\n",
       " 'निचे',\n",
       " 'हमारा',\n",
       " 'उंहों',\n",
       " 'अपनी',\n",
       " 'खिलाफ',\n",
       " 'कल',\n",
       " 'हुइ',\n",
       " 'की',\n",
       " 'मानो',\n",
       " 'वगेरह',\n",
       " 'आदि',\n",
       " 'कई',\n",
       " 'रवासा',\n",
       " 'किन्हों',\n",
       " 'यहां',\n",
       " 'खुद को',\n",
       " 'व',\n",
       " 'तिसे',\n",
       " 'तथा',\n",
       " 'स्थान',\n",
       " 'किसि',\n",
       " 'चाहिए',\n",
       " 'जैसा',\n",
       " 'काफि',\n",
       " 'करने',\n",
       " 'कोन',\n",
       " 'दूसरे',\n",
       " 'काफ़ी',\n",
       " 'जाते',\n",
       " 'रहा',\n",
       " 'होता है',\n",
       " 'न',\n",
       " 'वरग',\n",
       " 'अपने आप को',\n",
       " 'दोनों',\n",
       " 'तक',\n",
       " 'नहिं',\n",
       " 'इसी',\n",
       " 'उसका',\n",
       " 'में',\n",
       " 'तिंहों',\n",
       " 'किंहों',\n",
       " 'एवं',\n",
       " 'करने में',\n",
       " 'स्वयं',\n",
       " 'क्यों',\n",
       " 'इंहें',\n",
       " 'तो',\n",
       " 'बड़ा',\n",
       " 'दुसरा',\n",
       " 'यहाँ',\n",
       " 'इसके',\n",
       " 'ऐसे',\n",
       " 'था',\n",
       " 'पर',\n",
       " 'जेसा',\n",
       " 'रही',\n",
       " 'कोइ',\n",
       " 'सकता',\n",
       " 'आप',\n",
       " 'तिंहें',\n",
       " 'बिलकुल',\n",
       " 'दौरान',\n",
       " 'उसकी',\n",
       " 'कि',\n",
       " 'दुसरे',\n",
       " 'कि वह',\n",
       " 'बाद',\n",
       " 'उन',\n",
       " 'इन्हें',\n",
       " 'उस',\n",
       " 'दबारा',\n",
       " 'उसके',\n",
       " 'कौनसा',\n",
       " 'अपना',\n",
       " 'बहि',\n",
       " 'मैं',\n",
       " 'करते',\n",
       " 'में कोई')"
      ]
     },
     "execution_count": 86,
     "metadata": {},
     "output_type": "execute_result"
    }
   ],
   "source": [
    "Hindi_Stop_Words"
   ]
  },
  {
   "cell_type": "code",
   "execution_count": 93,
   "id": "quiet-aside",
   "metadata": {},
   "outputs": [],
   "source": [
    "def preprocessing_of_sentence(text):\n",
    "    text=Regular_expression_definition_for_digits.sub(r\" \",text)\n",
    "    punctuations = [\".\",\",\",\"!\",\"?\",\"'\",'\"',\":\",\";\",\"*\",\"-\",\"/\",\"+\",\"%\",\"$\",\"#\",\"@\",\"(\",\")\",\"[\",\"]\",\"{\",\"}\"]\n",
    "    for i in punctuations:\n",
    "        text = text.replace(i,\" \")\n",
    "    text=text.split()\n",
    "    text=[word for word in text if word not in Hindi_Stop_Words and len(word)>1]\n",
    "    return text"
   ]
  },
  {
   "cell_type": "code",
   "execution_count": 88,
   "id": "incorporate-medline",
   "metadata": {},
   "outputs": [
    {
     "data": {
      "text/plain": [
       "['महाविद्यालय', 'पता']"
      ]
     },
     "execution_count": 88,
     "metadata": {},
     "output_type": "execute_result"
    }
   ],
   "source": [
    "preprocessing_of_sentence(data['Questions'][0])"
   ]
  },
  {
   "cell_type": "code",
   "execution_count": 89,
   "id": "contrary-breast",
   "metadata": {},
   "outputs": [],
   "source": [
    "Preprocessed_textual_data=[\" \".join(preprocessing_of_sentence(text)) for text in data['Questions']]"
   ]
  },
  {
   "cell_type": "code",
   "execution_count": 90,
   "id": "tutorial-territory",
   "metadata": {},
   "outputs": [],
   "source": [
    "Preprocessed_Data=data"
   ]
  },
  {
   "cell_type": "code",
   "execution_count": 91,
   "id": "little-blackjack",
   "metadata": {},
   "outputs": [],
   "source": [
    "Preprocessed_Data['Questions']=Preprocessed_textual_data"
   ]
  },
  {
   "cell_type": "code",
   "execution_count": null,
   "id": "streaming-arbitration",
   "metadata": {},
   "outputs": [],
   "source": []
  },
  {
   "cell_type": "code",
   "execution_count": 92,
   "id": "confidential-creature",
   "metadata": {},
   "outputs": [],
   "source": [
    "Preprocessed_Data.to_csv('../Data/Object_Data/'+filename,index=False)"
   ]
  },
  {
   "cell_type": "code",
   "execution_count": null,
   "id": "severe-karen",
   "metadata": {},
   "outputs": [],
   "source": []
  },
  {
   "cell_type": "code",
   "execution_count": null,
   "id": "perfect-bulletin",
   "metadata": {},
   "outputs": [],
   "source": []
  }
 ],
 "metadata": {
  "kernelspec": {
   "display_name": "Python 3",
   "language": "python",
   "name": "python3"
  },
  "language_info": {
   "codemirror_mode": {
    "name": "ipython",
    "version": 3
   },
   "file_extension": ".py",
   "mimetype": "text/x-python",
   "name": "python",
   "nbconvert_exporter": "python",
   "pygments_lexer": "ipython3",
   "version": "3.9.2"
  }
 },
 "nbformat": 4,
 "nbformat_minor": 5
}
