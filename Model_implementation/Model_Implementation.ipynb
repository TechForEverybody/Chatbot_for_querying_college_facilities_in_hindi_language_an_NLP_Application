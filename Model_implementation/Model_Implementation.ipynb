{
 "cells": [
  {
   "cell_type": "code",
   "execution_count": 1,
   "id": "friendly-spectrum",
   "metadata": {},
   "outputs": [],
   "source": [
    "import numpy\n",
    "import pandas\n",
    "import matplotlib.pyplot as pyplot\n",
    "from matplotlib.font_manager import FontProperties\n",
    "import seaborn\n",
    "\n",
    "import nltk\n",
    "from nltk.corpus import stopwords,wordnet\n",
    "from nltk.probability import FreqDist\n",
    "\n",
    "from wordcloud import WordCloud\n",
    "import re\n",
    "from sklearn.feature_extraction.text import TfidfVectorizer\n",
    "from sklearn.metrics.pairwise import cosine_similarity\n",
    "\n",
    "from spacy.lang.hi import STOP_WORDS as STOP_WORDS_HI\n",
    "\n",
    "import pickle"
   ]
  },
  {
   "cell_type": "code",
   "execution_count": 2,
   "id": "configured-brook",
   "metadata": {},
   "outputs": [],
   "source": [
    "import warnings\n",
    "warnings.filterwarnings('ignore')"
   ]
  },
  {
   "cell_type": "code",
   "execution_count": 3,
   "id": "liable-monte",
   "metadata": {},
   "outputs": [],
   "source": [
    "# %matplotlib qt\n",
    "%matplotlib inline\n",
    "pyplot.rcParams[\"figure.figsize\"] = (15, 12)"
   ]
  },
  {
   "cell_type": "code",
   "execution_count": 4,
   "id": "skilled-plaintiff",
   "metadata": {},
   "outputs": [],
   "source": [
    "filename=\"Data.csv\""
   ]
  },
  {
   "cell_type": "code",
   "execution_count": 21,
   "id": "norman-controversy",
   "metadata": {},
   "outputs": [],
   "source": [
    "data=pandas.read_csv('../Data/Object_Data/'+filename)"
   ]
  },
  {
   "cell_type": "code",
   "execution_count": 22,
   "id": "frequent-second",
   "metadata": {},
   "outputs": [
    {
     "data": {
      "text/html": [
       "<div>\n",
       "<style scoped>\n",
       "    .dataframe tbody tr th:only-of-type {\n",
       "        vertical-align: middle;\n",
       "    }\n",
       "\n",
       "    .dataframe tbody tr th {\n",
       "        vertical-align: top;\n",
       "    }\n",
       "\n",
       "    .dataframe thead th {\n",
       "        text-align: right;\n",
       "    }\n",
       "</style>\n",
       "<table border=\"1\" class=\"dataframe\">\n",
       "  <thead>\n",
       "    <tr style=\"text-align: right;\">\n",
       "      <th></th>\n",
       "      <th>Questions</th>\n",
       "      <th>Answers</th>\n",
       "      <th>keywards</th>\n",
       "      <th>MainQuestion</th>\n",
       "    </tr>\n",
       "  </thead>\n",
       "  <tbody>\n",
       "    <tr>\n",
       "      <th>0</th>\n",
       "      <td>कठिन सवाल</td>\n",
       "      <td>माफ करना मुझे इस सवाल का जवाब देने पे कठिनाई ...</td>\n",
       "      <td>मुश्कील</td>\n",
       "      <td>कठिन सवाल</td>\n",
       "    </tr>\n",
       "    <tr>\n",
       "      <th>1</th>\n",
       "      <td>महाविद्यालय कॉलेज का पता अड्रेस क्या हैं colle...</td>\n",
       "      <td>डॉ. के.एम. वासुदेवन पिल्लै परिसर प्लॉट नंबर 10...</td>\n",
       "      <td>अड्रेस ऑफिस</td>\n",
       "      <td>महाविद्यालय का पता अड्रेस क्या हैं?</td>\n",
       "    </tr>\n",
       "    <tr>\n",
       "      <th>2</th>\n",
       "      <td>महाविद्यालय कॉलेज का फोन टेलीफोन नंबर क्या हैं...</td>\n",
       "      <td>02227456030</td>\n",
       "      <td>दूरभाष दूरध्वनी</td>\n",
       "      <td>महाविद्यालय का टेलीफोन नंबर क्या हैं?</td>\n",
       "    </tr>\n",
       "    <tr>\n",
       "      <th>3</th>\n",
       "      <td>महाविद्यालय कॉलेज कब स्थापित स्थापना हुआ था co...</td>\n",
       "      <td>१९९९</td>\n",
       "      <td>स्थापना</td>\n",
       "      <td>महाविद्यालय कब स्थापित स्थापना हुआ था ?</td>\n",
       "    </tr>\n",
       "    <tr>\n",
       "      <th>4</th>\n",
       "      <td>कॉलेज कितना बड़ा है college dikhne me kaisa ha...</td>\n",
       "      <td>कॉलेज प्राकृतिक सुंदरता से घिरी 10 एकड़ भूमि म...</td>\n",
       "      <td>NaN</td>\n",
       "      <td>कॉलेज कितना बड़ा है</td>\n",
       "    </tr>\n",
       "    <tr>\n",
       "      <th>5</th>\n",
       "      <td>इंजीनियरिगं में कितने विभाग ब्रैंचेस हैं engin...</td>\n",
       "      <td>6 विभाग हैं</td>\n",
       "      <td>NaN</td>\n",
       "      <td>इंजीनियरिगं में कितने विभाग ब्रैंचेस हैं</td>\n",
       "    </tr>\n",
       "    <tr>\n",
       "      <th>6</th>\n",
       "      <td>दिन मे कॉलेज कितने बजे कब तक होता है din me co...</td>\n",
       "      <td>शाम ४ या ५ या ६ बजे तक राहत हैं</td>\n",
       "      <td>NaN</td>\n",
       "      <td>दिन मे कॉलेज कितने बजे तक होता है?</td>\n",
       "    </tr>\n",
       "    <tr>\n",
       "      <th>7</th>\n",
       "      <td>लेक्चर व्याख्यान कितने घंटे चलता है lectures k...</td>\n",
       "      <td>१ घंटा लगभग</td>\n",
       "      <td>NaN</td>\n",
       "      <td>व्याख्यान कितने घंटे चलता है?</td>\n",
       "    </tr>\n",
       "    <tr>\n",
       "      <th>8</th>\n",
       "      <td>प्रैक्टिकल लैब कितने घंटे चलता है practical pr...</td>\n",
       "      <td>२ घंटा लगभग</td>\n",
       "      <td>NaN</td>\n",
       "      <td>प्रैक्टिकल कितने घंटे चलता है?</td>\n",
       "    </tr>\n",
       "    <tr>\n",
       "      <th>9</th>\n",
       "      <td>कॉलेज कैंपस में वाईफाई हैं क्या wifi hain kya ...</td>\n",
       "      <td>हा |हमारे पास एक मुफ्त और सुरक्षित वाईफाई कनेक...</td>\n",
       "      <td>NaN</td>\n",
       "      <td>कैंपस में वाईफाई हैं या?</td>\n",
       "    </tr>\n",
       "    <tr>\n",
       "      <th>10</th>\n",
       "      <td>महाविद्यालय कॉलेज के शिक्षक कैसे हैं teachers ...</td>\n",
       "      <td>सब बहुत ही अनुभव वाले शिक्षक हैं(लगभग ५-३० साल...</td>\n",
       "      <td>NaN</td>\n",
       "      <td>महाविद्यालय के शिक्षक कैसे हैं</td>\n",
       "    </tr>\n",
       "    <tr>\n",
       "      <th>11</th>\n",
       "      <td>प्रिसीपल का नाम कौन क्या हैं principal ka naam...</td>\n",
       "      <td>डॉ संदीप जोशी</td>\n",
       "      <td>NaN</td>\n",
       "      <td>प्रिसीपल का नाम क्या हैं?</td>\n",
       "    </tr>\n",
       "    <tr>\n",
       "      <th>12</th>\n",
       "      <td>कॉलेज के सबसे अच्छे शिक्षक कौन हैं who is the ...</td>\n",
       "      <td>मधुरा मैडम</td>\n",
       "      <td>NaN</td>\n",
       "      <td>सबसे अच्छे शिक्षक कौन हैं?</td>\n",
       "    </tr>\n",
       "    <tr>\n",
       "      <th>13</th>\n",
       "      <td>लैब के वाईफाई का पासवर्ड पिन क्या हैं lab ke w...</td>\n",
       "      <td>drkm123</td>\n",
       "      <td>NaN</td>\n",
       "      <td>वाईफाई का पासवर्ड पिन क्या हैं?</td>\n",
       "    </tr>\n",
       "  </tbody>\n",
       "</table>\n",
       "</div>"
      ],
      "text/plain": [
       "                                            Questions  \\\n",
       "0                                           कठिन सवाल   \n",
       "1   महाविद्यालय कॉलेज का पता अड्रेस क्या हैं colle...   \n",
       "2   महाविद्यालय कॉलेज का फोन टेलीफोन नंबर क्या हैं...   \n",
       "3   महाविद्यालय कॉलेज कब स्थापित स्थापना हुआ था co...   \n",
       "4   कॉलेज कितना बड़ा है college dikhne me kaisa ha...   \n",
       "5   इंजीनियरिगं में कितने विभाग ब्रैंचेस हैं engin...   \n",
       "6   दिन मे कॉलेज कितने बजे कब तक होता है din me co...   \n",
       "7   लेक्चर व्याख्यान कितने घंटे चलता है lectures k...   \n",
       "8   प्रैक्टिकल लैब कितने घंटे चलता है practical pr...   \n",
       "9   कॉलेज कैंपस में वाईफाई हैं क्या wifi hain kya ...   \n",
       "10  महाविद्यालय कॉलेज के शिक्षक कैसे हैं teachers ...   \n",
       "11  प्रिसीपल का नाम कौन क्या हैं principal ka naam...   \n",
       "12  कॉलेज के सबसे अच्छे शिक्षक कौन हैं who is the ...   \n",
       "13  लैब के वाईफाई का पासवर्ड पिन क्या हैं lab ke w...   \n",
       "\n",
       "                                              Answers         keywards  \\\n",
       "0    माफ करना मुझे इस सवाल का जवाब देने पे कठिनाई ...          मुश्कील   \n",
       "1   डॉ. के.एम. वासुदेवन पिल्लै परिसर प्लॉट नंबर 10...      अड्रेस ऑफिस   \n",
       "2                                         02227456030  दूरभाष दूरध्वनी   \n",
       "3                                                १९९९          स्थापना   \n",
       "4   कॉलेज प्राकृतिक सुंदरता से घिरी 10 एकड़ भूमि म...              NaN   \n",
       "5                                         6 विभाग हैं              NaN   \n",
       "6                     शाम ४ या ५ या ६ बजे तक राहत हैं              NaN   \n",
       "7                                         १ घंटा लगभग              NaN   \n",
       "8                                         २ घंटा लगभग              NaN   \n",
       "9   हा |हमारे पास एक मुफ्त और सुरक्षित वाईफाई कनेक...              NaN   \n",
       "10  सब बहुत ही अनुभव वाले शिक्षक हैं(लगभग ५-३० साल...              NaN   \n",
       "11                                      डॉ संदीप जोशी              NaN   \n",
       "12                                         मधुरा मैडम              NaN   \n",
       "13                                            drkm123              NaN   \n",
       "\n",
       "                                MainQuestion  \n",
       "0                                  कठिन सवाल  \n",
       "1        महाविद्यालय का पता अड्रेस क्या हैं?  \n",
       "2      महाविद्यालय का टेलीफोन नंबर क्या हैं?  \n",
       "3    महाविद्यालय कब स्थापित स्थापना हुआ था ?  \n",
       "4                        कॉलेज कितना बड़ा है  \n",
       "5   इंजीनियरिगं में कितने विभाग ब्रैंचेस हैं  \n",
       "6         दिन मे कॉलेज कितने बजे तक होता है?  \n",
       "7              व्याख्यान कितने घंटे चलता है?  \n",
       "8             प्रैक्टिकल कितने घंटे चलता है?  \n",
       "9                   कैंपस में वाईफाई हैं या?  \n",
       "10            महाविद्यालय के शिक्षक कैसे हैं  \n",
       "11                 प्रिसीपल का नाम क्या हैं?  \n",
       "12                सबसे अच्छे शिक्षक कौन हैं?  \n",
       "13           वाईफाई का पासवर्ड पिन क्या हैं?  "
      ]
     },
     "execution_count": 22,
     "metadata": {},
     "output_type": "execute_result"
    }
   ],
   "source": [
    "data"
   ]
  },
  {
   "cell_type": "markdown",
   "id": "furnished-manitoba",
   "metadata": {},
   "source": [
    "## Input Preprocessing Functions"
   ]
  },
  {
   "cell_type": "code",
   "execution_count": 23,
   "id": "dental-rotation",
   "metadata": {},
   "outputs": [],
   "source": [
    "NumberofCombinations=1"
   ]
  },
  {
   "cell_type": "code",
   "execution_count": 24,
   "id": "declared-flash",
   "metadata": {},
   "outputs": [],
   "source": [
    "Regular_expression_definition_for_digits=re.compile('\\d+\\s|\\s\\d+|\\s\\d+\\s')\n",
    "Defined_Stopwords=[\"मैं\",\"मुझको\",\"मेरा\",\"अपने आप को\",\"हमने\",\"हमारा\",\"अपना\",\"हम\",\"आप\",\"आपका\",\"तुम्हारा\",\"अपने आप\",\"स्वयं\",\"वह\",\"इसे\",\"उसके\",\"खुद को\",\"कि वह\",\"उसकी\",\"उसका\",\"खुद ही\",\"यह\",\"इसके\",\"उन्होने\",\"अपने\",\"क्या\",\"जो\",\"किसे\",\"किसको\",\"कि\",\"ये\",\"हूँ\",\"होता है\",\"रहे\",\"थी\",\"थे\",\"होना\",\"गया\",\"किया जा रहा है\",\"किया है\",\"है\",\"पडा\",\"होने\",\"करना\",\"करता है\",\"किया\",\"रही\",\"एक\",\"लेकिन\",\"अगर\",\"या\",\"क्यूंकि\",\"जैसा\",\"जब तक\",\"जबकि\",\"की\",\"पर\",\"द्वारा\",\"के लिए\",\"साथ\",\"के बारे में\",\"खिलाफ\",\"बीच\",\"में\",\"के माध्यम से\",\"दौरान\",\"से पहले\",\"के बाद\",\"ऊपर\",\"नीचे\",\"को\",\"से\",\"तक\",\"से नीचे\",\"करने में\",\"निकल\",\"बंद\",\"से अधिक\",\"तहत\",\"दुबारा\",\"आगे\",\"फिर\",\"एक बार\",\"यहाँ\",\"वहाँ\",\"कब\",\"कहाँ\",\"क्यों\",\"कैसे\",\"सारे\",\"किसी\",\"दोनो\",\"प्रत्येक\",\"ज्यादा\",\"अधिकांश\",\"अन्य\",\"में कुछ\",\"ऐसा\",\"में कोई\",\"मात्र\",\"खुद\",\"समान\",\"इसलिए\",\"बहुत\",\"सकता\",\"जायेंगे\",\"जरा\",\"चाहिए\",\"अभी\",\"और\",\"कर दिया\",\"रखें\",\"का\",\"हैं\",\"इस\",\"होता\",\"करने\",\"ने\",\"बनी\",\"तो\",\"ही\",\"हो\",\"इसका\",\"था\",\"हुआ\",\"वाले\",\"बाद\",\"लिए\",\"सकते\",\"इसमें\",\"दो\",\"वे\",\"करते\",\"कहा\",\"वर्ग\",\"कई\",\"करें\",\"होती\",\"अपनी\",\"उनके\",\"यदि\",\"हुई\",\"जा\",\"कहते\",\"जब\",\"होते\",\"कोई\",\"हुए\",\"व\",\"जैसे\",\"सभी\",\"करता\",\"उनकी\",\"तरह\",\"उस\",\"आदि\",\"इसकी\",\"उनका\",\"इसी\",\"पे\",\"तथा\",\"भी\",\"परंतु\",\"इन\",\"कम\",\"दूर\",\"पूरे\",\"गये\",\"तुम\",\"मै\",\"यहां\",\"हुये\",\"कभी\",\"अथवा\",\"गयी\",\"प्रति\",\"जाता\",\"इन्हें\",\"गई\",\"अब\",\"जिसमें\",\"लिया\",\"बड़ा\",\"जाती\",\"तब\",\"उसे\",\"जाते\",\"लेकर\",\"बड़े\",\"दूसरे\",\"जाने\",\"बाहर\",\"स्थान\",\"उन्हें \",\"गए\",\"ऐसे\",\"जिससे\",\"समय\",\"दोनों\",\"किए\",\"रहती\",\"इनके\",\"इनका\",\"इनकी\",\"सकती\",\"आज\",\"कल\",\"जिन्हें\",\"जिन्हों\",\"तिन्हें\",\"तिन्हों\",\"किन्हों\",\"किन्हें\",\"इत्यादि\",\"इन्हों\",\"उन्हों\",\"बिलकुल\",\"निहायत\",\"इन्हीं\",\"उन्हीं\",\"जितना\",\"दूसरा\",\"कितना\",\"साबुत\",\"वग़ैरह\",\"कौनसा\",\"लिये\",\"दिया\",\"जिसे\",\"तिसे\",\"काफ़ी\",\"पहले\",\"बाला\",\"मानो\",\"अंदर\",\"भीतर\",\"पूरा\",\"सारा\",\"उनको\",\"वहीं\",\"जहाँ\",\"जीधर\",\"के\",\"एवं\",\"कुछ\",\"कुल\",\"रहा\",\"जिस\",\"जिन\",\"तिस\",\"तिन\",\"कौन\",\"किस\",\"संग\",\"यही\",\"बही\",\"उसी\",\"मगर\",\"कर\",\"मे\",\"एस\",\"उन\",\"सो\",\"अत\"]\n",
    "Hindi_Stop_Words=tuple(set(STOP_WORDS_HI).union(set(Defined_Stopwords)))\n",
    "def preprocessing_of_sentence(text):\n",
    "    text=Regular_expression_definition_for_digits.sub(r\" \",text)\n",
    "    punctuations = [\".\",\",\",\"!\",\"?\",\"'\",'\"',\":\",\";\",\"*\",\"-\",\"/\",\"+\",\"%\",\"$\",\"#\",\"@\",\"(\",\")\",\"[\",\"]\",\"{\",\"}\"]\n",
    "    for i in punctuations:\n",
    "        text = text.replace(i,\" \")\n",
    "    text=text.lower().split()\n",
    "#     text=[word for word in text if word not in Hindi_Stop_Words and len(word)>1]\n",
    "    return text"
   ]
  },
  {
   "cell_type": "markdown",
   "id": "initial-deputy",
   "metadata": {},
   "source": [
    "## Output Processing Functions"
   ]
  },
  {
   "cell_type": "code",
   "execution_count": 25,
   "id": "regulated-bermuda",
   "metadata": {},
   "outputs": [],
   "source": [
    "def getOutput_fromCosineSimilarity(array):\n",
    "    array_element_sums=[]\n",
    "    for i in array:\n",
    "        array_element_sums.append(sum(i))\n",
    "    return array_element_sums.index(max(array_element_sums))"
   ]
  },
  {
   "cell_type": "markdown",
   "id": "french-soccer",
   "metadata": {},
   "source": [
    "# Vectorization"
   ]
  },
  {
   "cell_type": "markdown",
   "id": "higher-archives",
   "metadata": {},
   "source": [
    "### 1. Normal Vectorization"
   ]
  },
  {
   "cell_type": "code",
   "execution_count": 26,
   "id": "cultural-linux",
   "metadata": {},
   "outputs": [],
   "source": [
    "Vectorizer=TfidfVectorizer()"
   ]
  },
  {
   "cell_type": "code",
   "execution_count": 27,
   "id": "burning-drink",
   "metadata": {},
   "outputs": [],
   "source": [
    "Total_Vector_Data=Vectorizer.fit_transform(data['Questions'])"
   ]
  },
  {
   "cell_type": "code",
   "execution_count": 28,
   "id": "alike-arrest",
   "metadata": {},
   "outputs": [
    {
     "data": {
      "text/plain": [
       "<14x94 sparse matrix of type '<class 'numpy.float64'>'\n",
       "\twith 182 stored elements in Compressed Sparse Row format>"
      ]
     },
     "execution_count": 28,
     "metadata": {},
     "output_type": "execute_result"
    }
   ],
   "source": [
    "Total_Vector_Data"
   ]
  },
  {
   "cell_type": "code",
   "execution_count": 29,
   "id": "federal-survivor",
   "metadata": {},
   "outputs": [],
   "source": [
    "Total_Vector_Data=Total_Vector_Data.toarray()"
   ]
  },
  {
   "cell_type": "code",
   "execution_count": 30,
   "id": "successful-dictionary",
   "metadata": {},
   "outputs": [
    {
     "data": {
      "text/plain": [
       "array([[0.        , 0.        , 0.        , ..., 0.        , 0.70710678,\n",
       "        0.        ],\n",
       "       [0.        , 0.        , 0.62741324, ..., 0.        , 0.        ,\n",
       "        0.        ],\n",
       "       [0.        , 0.        , 0.        , ..., 0.        , 0.        ,\n",
       "        0.        ],\n",
       "       ...,\n",
       "       [0.        , 0.        , 0.        , ..., 0.        , 0.        ,\n",
       "        0.        ],\n",
       "       [0.        , 0.29709738, 0.        , ..., 0.29709738, 0.        ,\n",
       "        0.        ],\n",
       "       [0.        , 0.        , 0.        , ..., 0.        , 0.        ,\n",
       "        0.24371811]])"
      ]
     },
     "execution_count": 30,
     "metadata": {},
     "output_type": "execute_result"
    }
   ],
   "source": [
    "Total_Vector_Data"
   ]
  },
  {
   "cell_type": "code",
   "execution_count": 31,
   "id": "monetary-course",
   "metadata": {},
   "outputs": [],
   "source": [
    "with open(\"../Models/Vectorizer.pickle\",\"wb\") as f:\n",
    "    pickle.dump(Vectorizer,f)"
   ]
  },
  {
   "cell_type": "markdown",
   "id": "normal-accident",
   "metadata": {},
   "source": [
    "## Input Preparation"
   ]
  },
  {
   "cell_type": "code",
   "execution_count": 32,
   "id": "supreme-policy",
   "metadata": {},
   "outputs": [
    {
     "name": "stdout",
     "output_type": "stream",
     "text": [
      "['दिन', 'मे', 'कॉलेज', 'कब', 'तक', 'होता', 'हैं']\n",
      "[[0. 0. 0. 0. 0. 0. 0. 0. 0. 0. 0. 0. 0. 0. 0. 0. 0. 0. 0. 0. 0. 0. 0. 0.\n",
      "  0. 0. 0. 0. 0. 0. 0. 0. 0. 0. 0. 0. 0. 0. 0. 0. 0. 0. 0. 0. 0. 0. 0. 0.\n",
      "  0. 0. 0. 0. 0. 0. 0. 0. 0. 0. 0. 0. 0. 0. 0. 0. 0. 0. 0. 0. 0. 0. 0. 0.\n",
      "  0. 0. 0. 0. 0. 0. 0. 0. 0. 0. 0. 0. 0. 0. 0. 0. 0. 0. 0. 0. 0. 0.]\n",
      " [0. 0. 0. 0. 0. 0. 0. 0. 0. 0. 0. 0. 0. 0. 0. 0. 0. 0. 0. 0. 0. 0. 0. 0.\n",
      "  0. 0. 0. 0. 0. 0. 0. 0. 0. 0. 0. 0. 0. 0. 0. 0. 0. 0. 0. 0. 0. 0. 0. 0.\n",
      "  0. 0. 0. 0. 0. 0. 0. 0. 0. 0. 0. 0. 0. 0. 0. 0. 0. 0. 0. 0. 0. 0. 0. 0.\n",
      "  0. 0. 0. 0. 0. 0. 0. 0. 0. 0. 0. 0. 0. 0. 0. 0. 0. 0. 0. 0. 0. 0.]\n",
      " [0. 0. 0. 0. 0. 0. 0. 0. 0. 0. 0. 0. 0. 0. 0. 0. 0. 0. 0. 0. 0. 0. 0. 0.\n",
      "  0. 0. 0. 0. 0. 0. 0. 0. 0. 0. 0. 0. 0. 0. 0. 0. 0. 0. 0. 0. 0. 0. 0. 0.\n",
      "  0. 0. 0. 0. 0. 0. 0. 0. 0. 0. 0. 0. 0. 0. 0. 0. 0. 0. 0. 0. 0. 0. 0. 0.\n",
      "  0. 0. 0. 0. 0. 0. 0. 0. 0. 0. 0. 0. 0. 0. 0. 0. 0. 0. 0. 0. 0. 0.]\n",
      " [0. 0. 0. 0. 0. 0. 0. 0. 0. 0. 0. 0. 0. 0. 0. 0. 0. 0. 0. 0. 0. 0. 0. 0.\n",
      "  0. 0. 0. 0. 0. 0. 0. 0. 0. 0. 0. 0. 0. 0. 0. 0. 0. 0. 0. 0. 0. 0. 0. 0.\n",
      "  0. 0. 0. 0. 0. 0. 0. 0. 0. 0. 0. 0. 0. 0. 0. 0. 0. 0. 0. 0. 0. 0. 0. 0.\n",
      "  0. 0. 1. 0. 0. 0. 0. 0. 0. 0. 0. 0. 0. 0. 0. 0. 0. 0. 0. 0. 0. 0.]\n",
      " [0. 0. 0. 0. 0. 0. 0. 0. 0. 0. 0. 0. 0. 0. 0. 0. 0. 0. 0. 0. 0. 0. 0. 0.\n",
      "  0. 0. 0. 0. 0. 0. 0. 0. 0. 0. 0. 0. 0. 0. 0. 0. 0. 0. 0. 0. 0. 0. 0. 0.\n",
      "  0. 0. 0. 0. 0. 0. 0. 0. 0. 0. 0. 0. 0. 0. 0. 0. 0. 0. 0. 0. 0. 0. 0. 0.\n",
      "  0. 0. 0. 0. 0. 0. 1. 0. 0. 0. 0. 0. 0. 0. 0. 0. 0. 0. 0. 0. 0. 0.]\n",
      " [0. 0. 0. 0. 0. 0. 0. 0. 0. 0. 0. 0. 0. 0. 0. 0. 0. 0. 0. 0. 0. 0. 0. 0.\n",
      "  0. 0. 0. 0. 0. 0. 0. 0. 0. 0. 0. 0. 0. 0. 0. 0. 0. 0. 0. 0. 0. 0. 0. 0.\n",
      "  0. 0. 0. 0. 0. 0. 0. 0. 0. 0. 0. 0. 0. 0. 0. 0. 0. 0. 0. 0. 0. 0. 0. 0.\n",
      "  0. 0. 0. 0. 0. 0. 0. 0. 0. 0. 0. 0. 0. 0. 0. 0. 0. 0. 0. 0. 0. 0.]\n",
      " [0. 0. 0. 0. 0. 0. 0. 0. 0. 0. 0. 0. 0. 0. 0. 0. 0. 0. 0. 0. 0. 0. 0. 0.\n",
      "  0. 0. 0. 0. 0. 0. 0. 0. 0. 0. 0. 0. 0. 0. 0. 0. 0. 0. 0. 0. 0. 0. 0. 0.\n",
      "  0. 0. 0. 0. 0. 0. 0. 0. 0. 0. 0. 0. 0. 0. 0. 0. 0. 0. 0. 0. 0. 0. 0. 0.\n",
      "  0. 0. 0. 0. 0. 0. 0. 0. 0. 0. 0. 0. 0. 0. 0. 0. 0. 0. 0. 0. 0. 0.]]\n"
     ]
    }
   ],
   "source": [
    "input_Text=\"दिन मे कॉलेज कब तक होता हैं ?\"\n",
    "input_Text=preprocessing_of_sentence(input_Text)\n",
    "print(input_Text)\n",
    "input_Text=Vectorizer.transform(input_Text)\n",
    "print(input_Text.toarray())"
   ]
  },
  {
   "cell_type": "markdown",
   "id": "statistical-granny",
   "metadata": {},
   "source": [
    "# Model Implementation"
   ]
  },
  {
   "cell_type": "markdown",
   "id": "faced-earth",
   "metadata": {},
   "source": [
    "## 1. Cosine Similarity"
   ]
  },
  {
   "cell_type": "code",
   "execution_count": 33,
   "id": "detected-failure",
   "metadata": {},
   "outputs": [],
   "source": [
    "cosine_similarity_values=cosine_similarity(Total_Vector_Data,input_Text)"
   ]
  },
  {
   "cell_type": "code",
   "execution_count": 34,
   "id": "composite-display",
   "metadata": {
    "scrolled": false
   },
   "outputs": [
    {
     "data": {
      "text/plain": [
       "array([[0.        , 0.        , 0.        , 0.        , 0.        ,\n",
       "        0.        , 0.        ],\n",
       "       [0.        , 0.        , 0.        , 0.        , 0.        ,\n",
       "        0.        , 0.        ],\n",
       "       [0.        , 0.        , 0.        , 0.        , 0.        ,\n",
       "        0.        , 0.        ],\n",
       "       [0.        , 0.        , 0.        , 0.23493336, 0.        ,\n",
       "        0.        , 0.        ],\n",
       "       [0.        , 0.        , 0.        , 0.        , 0.        ,\n",
       "        0.        , 0.        ],\n",
       "       [0.        , 0.        , 0.        , 0.        , 0.        ,\n",
       "        0.        , 0.        ],\n",
       "       [0.        , 0.        , 0.        , 0.22504935, 0.26001844,\n",
       "        0.        , 0.        ],\n",
       "       [0.        , 0.        , 0.        , 0.        , 0.        ,\n",
       "        0.        , 0.        ],\n",
       "       [0.        , 0.        , 0.        , 0.        , 0.        ,\n",
       "        0.        , 0.        ],\n",
       "       [0.        , 0.        , 0.        , 0.        , 0.        ,\n",
       "        0.        , 0.        ],\n",
       "       [0.        , 0.        , 0.        , 0.        , 0.        ,\n",
       "        0.        , 0.        ],\n",
       "       [0.        , 0.        , 0.        , 0.        , 0.        ,\n",
       "        0.        , 0.        ],\n",
       "       [0.        , 0.        , 0.        , 0.        , 0.        ,\n",
       "        0.        , 0.        ],\n",
       "       [0.        , 0.        , 0.        , 0.        , 0.        ,\n",
       "        0.        , 0.        ]])"
      ]
     },
     "execution_count": 34,
     "metadata": {},
     "output_type": "execute_result"
    }
   ],
   "source": [
    "cosine_similarity_values"
   ]
  },
  {
   "cell_type": "code",
   "execution_count": 35,
   "id": "wrapped-sacrifice",
   "metadata": {
    "scrolled": true
   },
   "outputs": [
    {
     "data": {
      "text/plain": [
       "6"
      ]
     },
     "execution_count": 35,
     "metadata": {},
     "output_type": "execute_result"
    }
   ],
   "source": [
    "getOutput_fromCosineSimilarity(cosine_similarity_values)"
   ]
  },
  {
   "cell_type": "code",
   "execution_count": 20,
   "id": "hungry-process",
   "metadata": {},
   "outputs": [
    {
     "name": "stdout",
     "output_type": "stream",
     "text": [
      " शाम ४ या ५ या ६ बजे तक राहत हैं\n"
     ]
    }
   ],
   "source": [
    "print(data['Answers'][getOutput_fromCosineSimilarity(cosine_similarity_values)])"
   ]
  }
 ],
 "metadata": {
  "kernelspec": {
   "display_name": "Python 3",
   "language": "python",
   "name": "python3"
  },
  "language_info": {
   "codemirror_mode": {
    "name": "ipython",
    "version": 3
   },
   "file_extension": ".py",
   "mimetype": "text/x-python",
   "name": "python",
   "nbconvert_exporter": "python",
   "pygments_lexer": "ipython3",
   "version": "3.9.2"
  },
  "vscode": {
   "interpreter": {
    "hash": "11938c6bc6919ae2720b4d5011047913343b08a43b18698fd82dedb0d4417594"
   }
  }
 },
 "nbformat": 4,
 "nbformat_minor": 5
}
